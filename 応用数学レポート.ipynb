{
  "nbformat": 4,
  "nbformat_minor": 0,
  "metadata": {
    "colab": {
      "name": "応用数学レポート.ipynb",
      "provenance": [],
      "authorship_tag": "ABX9TyMdSxIJv1sN9deKrtKb7Q+4",
      "include_colab_link": true
    },
    "kernelspec": {
      "name": "python3",
      "display_name": "Python 3"
    },
    "language_info": {
      "name": "python"
    }
  },
  "cells": [
    {
      "cell_type": "markdown",
      "metadata": {
        "id": "view-in-github",
        "colab_type": "text"
      },
      "source": [
        "<a href=\"https://colab.research.google.com/github/junya-ph/report/blob/making_report/%E5%BF%9C%E7%94%A8%E6%95%B0%E5%AD%A6%E3%83%AC%E3%83%9D%E3%83%BC%E3%83%88.ipynb\" target=\"_parent\"><img src=\"https://colab.research.google.com/assets/colab-badge.svg\" alt=\"Open In Colab\"/></a>"
      ]
    },
    {
      "cell_type": "markdown",
      "metadata": {
        "id": "iZ0L3QdQ8YB_"
      },
      "source": [
        "# 第１章：線形代数"
      ]
    },
    {
      "cell_type": "markdown",
      "metadata": {
        "id": "J-RZpYYo8b7x"
      },
      "source": [
        "線形代数は、ベクトルや行列などを扱う数学の分野の一つである。深層学習では多くの数値を扱う必要があり、線形代数を利用すれば多くの数値の処理を簡潔に記述することができる。線形代数における数値のまとめ方は、スカラー、ベクトル、行列、テンソルがある。スカラーとは、1、-2、などの通常の数値である。ベクトルとは、スカラーを直線上に並べたものである。ベクトルには、数値を縦に並べる縦ベクトルと数値を横に並べる横ベクトルがある。行列とは、スカラーを格子状に並べたものである。行列において、横方向のスカラーの並びを行、縦方向のスカラーの並びを列という。テンソルとは、スカラーを複数の次元に並べたものである。"
      ]
    },
    {
      "cell_type": "markdown",
      "metadata": {
        "id": "36M4wRszJywV"
      },
      "source": [
        "# 第２章：確率・統計"
      ]
    },
    {
      "cell_type": "markdown",
      "metadata": {
        "id": "gcUcWqyEJ60k"
      },
      "source": [
        "確率は、偶然性のある現実世界の現象を表現するのに用いられる。人工知能は状況判断の一つとして、正解の確率が最も高い選択肢を選ぶことがある。結合確率とは、事象Aと事象Bが独立である場合、事象Aと事象Bが同時に起こる確率であり、P(A)P(B)と表される。条件付き確率とは、事象Bが起きた時に事象Aが起こる確率であり、P(A∩B)/P(B)と表される。"
      ]
    },
    {
      "cell_type": "markdown",
      "metadata": {
        "id": "48CUaD2ml_S6"
      },
      "source": [
        "期待値は、離散型確率変数Xに対して、期待値E(X)はE(X)=ΣP(X)Xと表される。期待値は平均値と同じ概念であり、期待値は「見込み」のことである。"
      ]
    },
    {
      "cell_type": "markdown",
      "metadata": {
        "id": "3Go641KcnXl5"
      },
      "source": [
        "分散は、値のばらつき具合を表す指標であり、標準偏差は分散の平方根である。つまり、標準偏差も分散と同様に値のばらつきの指標であり、単位の次元が元の値と同じであるため、より直感的に値の散らばり具合が分かる。共分散とは、２組のデータの関係性を表す指標である。XとYの２組のデータを考えた時に、共分散が大きいということはXが大きいとYも大きく、Xが小さいとYも小さいという傾向があると言える。共分散が０に近い場合は、XとYはあまり関係性がないと言える。"
      ]
    },
    {
      "cell_type": "markdown",
      "metadata": {
        "id": "TXf7NfaupN-l"
      },
      "source": [
        "# 第３章：情報理論"
      ]
    },
    {
      "cell_type": "markdown",
      "metadata": {
        "id": "m15nHdu2pQEv"
      },
      "source": [
        "情報量とは、情報理論において情報を定量的に扱うために定義された概念である。自己情報量とは、ある出来事がどれほど起こりにくいかを表す尺度であり、I(E)=-logP(E)で表され、対数の底には2がよく用いられる。交差エントロピーとは、確率分布がどれだけあるべき値と離れているかを表す尺度である。"
      ]
    }
  ]
}
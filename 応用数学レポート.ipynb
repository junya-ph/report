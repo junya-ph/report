{
  "nbformat": 4,
  "nbformat_minor": 0,
  "metadata": {
    "colab": {
      "name": "応用数学レポート.ipynb",
      "provenance": []
    },
    "kernelspec": {
      "name": "python3",
      "display_name": "Python 3"
    },
    "language_info": {
      "name": "python"
    }
  },
  "cells": [
    {
      "cell_type": "markdown",
      "metadata": {
        "id": "iZ0L3QdQ8YB_"
      },
      "source": [
        "# 第１章：線形代数"
      ]
    },
    {
      "cell_type": "markdown",
      "metadata": {
        "id": "J-RZpYYo8b7x"
      },
      "source": [
        "線形代数は、ベクトルや行列などを扱う数学の分野の一つである。深層学習では多くの数値を扱う必要があり、線形代数を利用すれば多くの数値の処理を簡潔に記述することができる。線形代数における数値のまとめ方は、スカラー、ベクトル、行列、テンソルがある。スカラーとは、1、-2、などの通常の数値である。ベクトルとは、スカラーを直線上に並べたものである。ベクトルには、数値を縦に並べる縦ベクトルと数値を横に並べる横ベクトルがある。行列とは、スカラーを格子状に並べたものである。行列において、横方向のスカラーの並びを行、縦方向のスカラーの並びを列という。テンソルとは、スカラーを複数の次元に並べたものである。"
      ]
    },
    {
      "cell_type": "markdown",
      "metadata": {
        "id": "C1EeI3U5-fkm"
      },
      "source": [
        "ベクトルの計算"
      ]
    },
    {
      "cell_type": "code",
      "metadata": {
        "colab": {
          "base_uri": "https://localhost:8080/"
        },
        "id": "1SCfhisi9r7v",
        "outputId": "4a646033-e7d3-467b-932b-af90215c30d9"
      },
      "source": [
        "import numpy as np\n",
        "a = np.array([1, 6, 3])\n",
        "b = np.array([5, 2, 4])\n",
        "\n",
        "print(a+b) #ベクトル同士の足し算\n",
        "print(a-b) #ベクトル同士の引き算\n",
        "print(7*a) #ベクトルaを7倍"
      ],
      "execution_count": 2,
      "outputs": [
        {
          "output_type": "stream",
          "text": [
            "[6 8 7]\n",
            "[-4  4 -1]\n",
            "[ 7 42 21]\n"
          ],
          "name": "stdout"
        }
      ]
    },
    {
      "cell_type": "markdown",
      "metadata": {
        "id": "l6rYF2U8A8i1"
      },
      "source": [
        "行列の計算"
      ]
    },
    {
      "cell_type": "code",
      "metadata": {
        "colab": {
          "base_uri": "https://localhost:8080/"
        },
        "id": "omincsxIBaNE",
        "outputId": "a9931655-4bd2-4d88-d098-409734cea38f"
      },
      "source": [
        "c = np.array([[2, 1],[5, 3]])\n",
        "d = np.array([[1, 4],[1, 5]])\n",
        "print(c+d) #行列同士の足し算\n",
        "print(c-d) #行列同士の引き算"
      ],
      "execution_count": 5,
      "outputs": [
        {
          "output_type": "stream",
          "text": [
            "[[3 5]\n",
            " [6 8]]\n",
            "[[ 1 -3]\n",
            " [ 4 -2]]\n"
          ],
          "name": "stdout"
        }
      ]
    }
  ]
}